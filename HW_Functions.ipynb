{
  "nbformat": 4,
  "nbformat_minor": 0,
  "metadata": {
    "colab": {
      "name": "HW Functions.ipynb",
      "provenance": [],
      "authorship_tag": "ABX9TyP6yCDm4+nrhHq1GmAiWWCm",
      "include_colab_link": true
    },
    "kernelspec": {
      "name": "python3",
      "display_name": "Python 3"
    }
  },
  "cells": [
    {
      "cell_type": "markdown",
      "metadata": {
        "id": "view-in-github",
        "colab_type": "text"
      },
      "source": [
        "<a href=\"https://colab.research.google.com/github/yanademidova/Python-Homework/blob/main/HW_Functions.ipynb\" target=\"_parent\"><img src=\"https://colab.research.google.com/assets/colab-badge.svg\" alt=\"Open In Colab\"/></a>"
      ]
    },
    {
      "cell_type": "markdown",
      "metadata": {
        "id": "2a_yGoQgjjEv"
      },
      "source": [
        "# **Homework**\n",
        "\n",
        "Сделайте одну задачу на выбор. Выполнение больше одной приветствуется\n",
        "\n",
        "Задача 1. Напишите генератор названий компаний (почти как генератор паролей). Пусть в названии компании будет 6 частей, рандомно выбирающихся из списка names."
      ]
    },
    {
      "cell_type": "code",
      "metadata": {
        "colab": {
          "base_uri": "https://localhost:8080/"
        },
        "id": "7TaMnxuJjpHl",
        "outputId": "e3a6fb7d-7468-4fbd-e723-410e9e8092dd"
      },
      "source": [
        "# генератор названий компаний\n",
        "\n",
        "import random\n",
        "\n",
        "names = [\"пром\",\"агро\",\"торг\",\"урал\",\"север\",\"юг\",\"техно\",\n",
        "\"экспо\",\"метал\",\"нефть\",\"сельхоз\",\"фарм\",\"строй\",\n",
        "\"кредит\",\"алмаз\",\"-девелопмент\",\"развитие\",\"мос\",\n",
        "\"рос\",\"кубань\",\"сибирь\",\"восток\",\"нано\",\"софт\",\n",
        "\"микро\",\"онлайн\",\"инвест\",\"текстиль\",\"цемент\"]\n",
        "\n",
        "# Ваш код ниже\n",
        "\n",
        "\n",
        "company = ''\n",
        "for x in range(6):\n",
        "  company = company + random.choice(names)\n",
        "print(company)\n",
        "\n",
        "# запустите ячейку несколько раз"
      ],
      "execution_count": 1,
      "outputs": [
        {
          "output_type": "stream",
          "text": [
            "алмазцементстройросагротехно\n"
          ],
          "name": "stdout"
        }
      ]
    },
    {
      "cell_type": "markdown",
      "metadata": {
        "id": "_1wCSMhmj9Ny"
      },
      "source": [
        "Задача 2. Транслитератор-2, более сложный\n",
        "Примерный порядок действий:\n",
        "напишите побуквенный транслитератор с кириллицы на латиницу(можно использовать написанный в прошлый раз)\n",
        "\"оберните\" ваш код транслитератора в функцию (т.е.сам код транслитератора будет в теле функции. Опишите функцию: как она называется, что у нее за аргументы, что она возвращает на выходе)\n",
        "Вызовите функцию: примените функцию к тексту (возьмите любой, на ваш выбор, длиной от 2 до 4 предложений. Хорошая идея - искать в статьях на Википедии)\n",
        "3.1. чтобы работать с текстом, сохраните его в переменную"
      ]
    },
    {
      "cell_type": "code",
      "metadata": {
        "colab": {
          "base_uri": "https://localhost:8080/"
        },
        "id": "dzEyIkNmkVAM",
        "outputId": "1ea43810-7f15-4c71-c0cf-643371aba475"
      },
      "source": [
        "def translit(name):\n",
        "  slovar = {'—':'—', '-':'-','9':'9', '8':'8', '7':'7', '6':'6','5':'5', '4':'4', '3':'3', '2':'2', '1':'1','0':'0', '?':'?', '!':'!', ':':':', ';':';', ',': ',', '.':'.', ' ':' ', 'а': \"a\", 'б': \"b\", 'в': \"v\", 'г': \"g\", 'д':\"d\", 'е': \"e\", 'ё': \"yo\", 'ж': \"zh\", 'з': \"z\", 'и': \"i\", 'й': \"y\", 'к': \"k\", 'л': 'l', 'м': \"m\", 'н': \"n\", 'о': \"o\", 'п': \"p\", 'р': \"r\", 'с': \"s\", 'т': \"t\", 'у': \"u\", 'ф': \"f\", 'х': \"h\", 'ц': \"ts\", 'ч': \"ch\", 'ш': \"sh\", 'щ': \"sch\", 'ъ': \"y\", 'ы': \"y\",'ь': \"\", 'э': \"e\", 'ю': \"yu\", 'я':\"ya\", 'А': \"A\", 'Б': \"B\", 'В': \"V\", 'Г': \"G\", 'Д':\"D\", 'Е': \"E\", 'Ё': \"Yo\", 'Ж': \"ZH\", 'З': \"Z\", 'И': \"I\", 'Й': \"Y\", 'К': \"K\", 'Л': 'L', 'М': \"M\", 'Н': \"N\", 'О': \"O\", 'П': \"P\", 'Р': \"R\", 'С': \"S\", 'Т': \"T\", 'У': \"U\", 'Ф': \"F\", 'Х': \"H\", 'Ц': \"Ts\", 'Ч': \"Ch\", 'Ш': \"Sh\", 'Щ': \"Sch\", 'Ъ': \"Y\", 'Ы': \"Y\",'Ь': \"\", 'Э': \"E\", 'Ю': \"Yu\", 'Я':\"Ya\"}\n",
        "  for key in slovar:\n",
        "    name = name.replace(key, slovar[key])\n",
        "  return name\n",
        "  \n",
        "\n",
        "\n",
        "text = ('Питоны часто содержатся в неволе: не только в зоопарках, но и в домашних условиях любителями рептилий. Отдельные виды этих змей являются очень популярными террариумными животными и хорошо размножаются. В неволе живут до 20-25 лет.')\n",
        "translit(text)\n",
        "result = translit(text)\n",
        "print(result)"
      ],
      "execution_count": 2,
      "outputs": [
        {
          "output_type": "stream",
          "text": [
            "Pitony chasto soderzhatsya v nevole: ne tolko v zooparkah, no i v domashnih usloviyah lyubitelyami reptiliy. Otdelnye vidy etih zmey yavlyayutsya ochen populyarnymi terrariumnymi zhivotnymi i horosho razmnozhayutsya. V nevole zhivut do 20-25 let.\n"
          ],
          "name": "stdout"
        }
      ]
    },
    {
      "cell_type": "markdown",
      "metadata": {
        "id": "38MxwYyukfcU"
      },
      "source": [
        "Задача 3. Усовершенствованный генератор паролей\n",
        "Используя генератор паролей описанный в начале тетрадки, создайте свой. Пароли, получаемые в результате, должны удовлетворять следующим условиям: - длина пароля - 15 символов - в пароле есть 3 заглавные буквы (любые, в любом месте пароля) - в пароле есть 4 цифры (любые, в любом месте) - оставшиеся символы пароля - строчные латинские буквы"
      ]
    },
    {
      "cell_type": "code",
      "metadata": {
        "colab": {
          "base_uri": "https://localhost:8080/"
        },
        "id": "EcJRYJ2KkoDR",
        "outputId": "b2f30f9f-41b1-4af7-fe8a-ba2cb1798da5"
      },
      "source": [
        "import random\n",
        "passw = ''\n",
        "for x in range(8): \n",
        "   passw = passw + random.choice ('qwertyuiopasdfghjklzxcvbnm')\n",
        "for x in range(3):\n",
        "  passw = passw + random.choice ('QWERTYUIOPASDFGHJKLZXCVBNM')\n",
        "for x in range(4):\n",
        "   passw = passw + random.choice ('0123456789')\n",
        "\n",
        "\n",
        "\n",
        "print (passw)"
      ],
      "execution_count": 9,
      "outputs": [
        {
          "output_type": "stream",
          "text": [
            "iwoiylxqMPS2108\n"
          ],
          "name": "stdout"
        }
      ]
    }
  ]
}