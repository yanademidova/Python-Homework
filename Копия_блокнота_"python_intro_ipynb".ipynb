{
  "nbformat": 4,
  "nbformat_minor": 0,
  "metadata": {
    "colab": {
      "name": "Копия блокнота \"python_intro.ipynb\"",
      "provenance": [],
      "collapsed_sections": []
    },
    "kernelspec": {
      "display_name": "Python 3",
      "name": "python3"
    }
  },
  "cells": [
    {
      "cell_type": "markdown",
      "metadata": {
        "id": "OaRaw_Xhe_WW"
      },
      "source": [
        "## домашнее задание: \n",
        "(можно выполнять прям в ячейках, или скопировав код в \n",
        "PyCharm)\n"
      ]
    },
    {
      "cell_type": "code",
      "metadata": {
        "id": "7ULyIqr9rjqZ",
        "outputId": "c531f322-9f45-4baa-91c4-cb0998f045ed",
        "colab": {
          "base_uri": "https://localhost:8080/",
          "height": 221
        }
      },
      "source": [
        "# задание 1\n",
        "# какие из этих строк можно конкатенировать? Какие умножать? Какие вычитать? Запишите все результаты, которые у Вас получились\n",
        "a = 23\n",
        "b = 34.02\n",
        "c = \"Python is cool. \"\n",
        "d = \"You are cool, too. \"\n",
        "print(a+b)\n",
        "print(a-b)\n",
        "print(a*b)\n",
        "print(a*2)\n",
        "print(b*2)\n",
        "print(a/b)\n",
        "print(a//b)\n",
        "print(a%b)\n",
        "concat=c+d\n",
        "print(concat)\n",
        "print(c*2)\n",
        "print(d*2)\n",
        "concat1=a+b\n",
        "print(concat1)\n",
        "\n"
      ],
      "execution_count": 17,
      "outputs": [
        {
          "output_type": "stream",
          "text": [
            "57.02\n",
            "-11.020000000000003\n",
            "782.46\n",
            "46\n",
            "68.04\n",
            "0.6760728982951204\n",
            "0.0\n",
            "23.0\n",
            "Python is cool. You are cool, too. \n",
            "Python is cool. Python is cool. \n",
            "You are cool, too. You are cool, too. \n",
            "57.02\n"
          ],
          "name": "stdout"
        }
      ]
    },
    {
      "cell_type": "code",
      "metadata": {
        "id": "rFbWmOQgiP3d",
        "outputId": "fc029e04-ef21-433e-f1da-aaaea6e4ad77",
        "colab": {
          "base_uri": "https://localhost:8080/",
          "height": 51
        }
      },
      "source": [
        "# задание 2\n",
        "\"\"\"\n",
        "Придумайте такую строку (на любом знакомом Вам языке),чтобы она состояла из трех других (повторы строки разрешены).\n",
        "Напишите код. Если вы можете сделать это более, чем одним способом, напишите все способы\n",
        "\"\"\"\n",
        "e=\"Happy \"\n",
        "f=\"Birthday, \"\n",
        "g=\"mom!\"\n",
        "concat2=(e+f+g)\n",
        "print(concat2)\n",
        "print(e+f+g)"
      ],
      "execution_count": 22,
      "outputs": [
        {
          "output_type": "stream",
          "text": [
            "Happy Birthday, mom!\n",
            "Happy Birthday, mom!\n"
          ],
          "name": "stdout"
        }
      ]
    },
    {
      "cell_type": "code",
      "metadata": {
        "id": "axJ6u-qwsOxy",
        "outputId": "6d76d44c-742a-464e-afdf-54299743a845",
        "colab": {
          "base_uri": "https://localhost:8080/",
          "height": 136
        }
      },
      "source": [
        "# задание 3\n",
        "\"\"\"\n",
        "Как из слова \"апельсин\" сделать слово \"спаниель\" ? \n",
        "Подсказка: вам помогут срезы и операции с индексами\n",
        "\"\"\"\n",
        "h=\"апельсин\"\n",
        "print(h)\n",
        "print(h[::-1])\n",
        "i=(h[::-1])\n",
        "print(i[2:7:4])\n",
        "j=(i[2:7:4])\n",
        "print(i[::-7])\n",
        "k=(i[::-7])\n",
        "l=(i[1])\n",
        "print(l)\n",
        "m=(h[2:5])\n",
        "print(m)\n",
        "print(j+k+l+m)"
      ],
      "execution_count": 67,
      "outputs": [
        {
          "output_type": "stream",
          "text": [
            "апельсин\n",
            "нисьлепа\n",
            "сп\n",
            "ан\n",
            "и\n",
            "ель\n",
            "спаниель\n"
          ],
          "name": "stdout"
        }
      ]
    },
    {
      "cell_type": "code",
      "metadata": {
        "id": "-RcJ1FISsSPx",
        "outputId": "54b29f83-87c5-4e5c-c854-e543409e80d5",
        "colab": {
          "base_uri": "https://localhost:8080/",
          "height": 68
        }
      },
      "source": [
        "# задание 4 (выполняется по желанию)\n",
        "\"\"\"элементы в переменной text преобразуйте в нижний регистр, а затем запишите наоборот, с последнего элемента по первый\"\"\"\n",
        "text = \"WOW, NOEL SEES LEON\"\n",
        "print(text.lower())\n",
        "text1=(text.lower())\n",
        "print(text1.split())\n",
        "list1=(text1.split())\n",
        "print(list1[::-1])\n",
        "\n",
        "\n",
        "\n",
        "\n"
      ],
      "execution_count": 111,
      "outputs": [
        {
          "output_type": "stream",
          "text": [
            "wow, noel sees leon\n",
            "['wow,', 'noel', 'sees', 'leon']\n",
            "['leon', 'sees', 'noel', 'wow,']\n"
          ],
          "name": "stdout"
        }
      ]
    },
    {
      "cell_type": "code",
      "metadata": {
        "id": "YGLMAqT7VU-A"
      },
      "source": [
        ""
      ],
      "execution_count": null,
      "outputs": []
    }
  ]
}