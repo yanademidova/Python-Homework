{
  "nbformat": 4,
  "nbformat_minor": 0,
  "metadata": {
    "colab": {
      "name": "tuples, sets, dicts _HW.ipynb",
      "provenance": [],
      "authorship_tag": "ABX9TyNbEHdpA/oZGdN3rEhej20I",
      "include_colab_link": true
    },
    "kernelspec": {
      "name": "python3",
      "display_name": "Python 3"
    }
  },
  "cells": [
    {
      "cell_type": "markdown",
      "metadata": {
        "id": "view-in-github",
        "colab_type": "text"
      },
      "source": [
        "<a href=\"https://colab.research.google.com/github/yanademidova/Python-Homework/blob/main/tuples%2C_sets%2C_dicts__HW.ipynb\" target=\"_parent\"><img src=\"https://colab.research.google.com/assets/colab-badge.svg\" alt=\"Open In Colab\"/></a>"
      ]
    },
    {
      "cell_type": "markdown",
      "metadata": {
        "id": "BM3h3KqJqAwT"
      },
      "source": [
        "homework\n",
        "\n",
        "с помощью словаря создайте простой транслитератор: нужно, чтобы программа принимала с клавиатуры (у нас есть специальный оператор ввода с клавиатуры) слова, записанные кириллицей, и печатала результат латиницей.\n",
        "Пример: собака >> sobaka"
      ]
    },
    {
      "cell_type": "code",
      "metadata": {
        "id": "wtg0ceZ1pXhY",
        "outputId": "87b10d37-9b9d-4741-fb0e-5eabb2ab3e3e",
        "colab": {
          "base_uri": "https://localhost:8080/"
        }
      },
      "source": [
        "myinput = input (\"Введите слово для транслитерации \")\n",
        "d = {'а': \"a\", 'б': \"b\", 'в': \"v\", 'г': \"g\", 'д':\"d\", 'е': \"e\", 'ё': \"yo\", 'ж': \"zh\", 'з': \"z\", 'и': \"i\", 'й': \"y\", 'к': \"k\", 'л': 'l', 'м': \"m\", 'н': \"n\", 'о': \"o\", 'п': \"p\", 'р': \"r\", 'с': \"s\", 'т': \"t\", 'у': \"u\", 'ф': \"f\", 'х': \"h\", 'ц': \"ts\", 'ч': \"ch\", 'ш': \"sh\", 'щ': \"sch\", 'ъ': \"y\", 'ы': \"y\",'ь': \"\", 'э': \"e\", 'ю': \"yu\", 'я':\"ya\", 'А': \"A\", 'Б': \"B\", 'В': \"V\", 'Г': \"G\", 'Д':\"D\", 'Е': \"E\", 'Ё': \"Yo\", 'Ж': \"ZH\", 'З': \"Z\", 'И': \"I\", 'Й': \"Y\", 'К': \"K\", 'Л': 'L', 'М': \"M\", 'Н': \"N\", 'О': \"O\", 'П': \"P\", 'Р': \"R\", 'С': \"S\", 'Т': \"T\", 'У': \"U\", 'Ф': \"F\", 'Х': \"H\", 'Ц': \"Ts\", 'Ч': \"Ch\", 'Ш': \"Sh\", 'Щ': \"Sch\", 'Ъ': \"Y\", 'Ы': \"Y\",'Ь': \"\", 'Э': \"E\", 'Ю': \"Yu\", 'Я':\"Ya\"}\n",
        "for i in myinput:\n",
        "    if i in d.keys():\n",
        "        print(d[i], end='')"
      ],
      "execution_count": 2,
      "outputs": [
        {
          "output_type": "stream",
          "text": [
            "Введите слово для транслитерации яна\n",
            "yana"
          ],
          "name": "stdout"
        }
      ]
    }
  ]
}